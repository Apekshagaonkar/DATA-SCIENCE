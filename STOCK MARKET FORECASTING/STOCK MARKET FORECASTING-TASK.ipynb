{
 "cells": [
  {
   "cell_type": "markdown",
   "metadata": {},
   "source": [
    "# TIME SERIES "
   ]
  },
  {
   "cell_type": "markdown",
   "metadata": {},
   "source": [
    "Whether we wanted to predict the financial market or electricity consumption, time becomes the important factor to be considered in our model.\n",
    "\n",
    "We would not only want to know ups and downs of stock market but also **when** it happens\n",
    "\n",
    "A time series is simply a series of data points ordered in time.\n",
    "\n",
    "In a time series, time is often the independent variable and the goal is usually to make a forecast for the future."
   ]
  },
  {
   "cell_type": "markdown",
   "metadata": {},
   "source": [
    "### BUSSINESS PROBLEM"
   ]
  },
  {
   "cell_type": "markdown",
   "metadata": {},
   "source": [
    "Making decision on investment in the right stock market"
   ]
  },
  {
   "cell_type": "markdown",
   "metadata": {},
   "source": [
    "### DESCRIPTION"
   ]
  },
  {
   "cell_type": "markdown",
   "metadata": {},
   "source": [
    "When a company or person plans to invest his/her capital in stock, he/she would prefer to have profit. So he/she should analyse which stock is better to invest in. \n",
    "\n",
    "how will they analyse ?\n",
    "**And thats where our problem statement starts**"
   ]
  },
  {
   "cell_type": "markdown",
   "metadata": {},
   "source": [
    "# PROBLEM STATEMENT :  FORCASTING OF THE STOCK MARKET"
   ]
  },
  {
   "cell_type": "markdown",
   "metadata": {},
   "source": [
    "Our Aim here is to create a model that can predit the future stock price based on the model training and provided dataset."
   ]
  },
  {
   "cell_type": "markdown",
   "metadata": {},
   "source": [
    "### OBJECTIVE"
   ]
  },
  {
   "cell_type": "markdown",
   "metadata": {},
   "source": [
    "- Predict stock price in next day\n",
    "- Given prices for the last N days, we do prediction for day N+1"
   ]
  },
  {
   "cell_type": "markdown",
   "metadata": {},
   "source": [
    "### STEPS :\n",
    "1. Importing Libraries\n",
    "2. Exploring the Dataset\n",
    "3. Exploratory Data Analysis\n",
    "> * Univariate Analysis\n",
    "4. Data Preprocessing\n",
    "5. Model Building\n",
    "> * AUTOREGRESSIVE MODEL\n",
    "> * MOVING AVERAGE MODEL\n",
    "6. Evaluation\n",
    "> * MEAN SQUARE ERROR\n",
    "> * MEAN ABSOLUTE ERROR\n",
    "> * ROOT MEAN SQUARE ERROR\n",
    "7. Conclusion"
   ]
  },
  {
   "cell_type": "markdown",
   "metadata": {},
   "source": [
    "### DATA\n",
    "We will be using a [Huge stock market dataset](https://www.kaggle.com/borismarjanovic/price-volume-data-for-all-us-stocks-etfs) from the Kaggle platform which has a very good collection of datasets.The file we will be using is present in following directory in the dataset zip file input\\Data\\Stocks\\gs.us.txt\n",
    "  \n",
    "The data is presented in CSV format as follows : Date, Open, High, Low, Close, Volume, OpenInt.\n",
    "\n",
    "Features:\n",
    "  - Date\n",
    "  - Open\n",
    "  - High\n",
    "  - Low\n",
    "  - Close\n",
    "  - Volume\n",
    "  - OpenInt\n",
    "  \n",
    "Note that prices have been adjusted for dividends and splits."
   ]
  },
  {
   "cell_type": "markdown",
   "metadata": {},
   "source": [
    "### IMPORTED LIBRARIES"
   ]
  },
  {
   "cell_type": "code",
   "execution_count": null,
   "metadata": {},
   "outputs": [],
   "source": [
    "\"\"\"Import all the libraries required to complete the task\"\"\""
   ]
  },
  {
   "cell_type": "code",
   "execution_count": null,
   "metadata": {},
   "outputs": [],
   "source": []
  },
  {
   "cell_type": "markdown",
   "metadata": {},
   "source": [
    "### LOADING AND  PREPROCESSING "
   ]
  },
  {
   "cell_type": "code",
   "execution_count": null,
   "metadata": {},
   "outputs": [],
   "source": [
    "\"\"\"  function using lambda that takes in the date from the parse_dates and converts into YYYY-MM-DD format \"\"\"\n"
   ]
  },
  {
   "cell_type": "code",
   "execution_count": null,
   "metadata": {},
   "outputs": [],
   "source": [
    "\"\"\" Loading the CSV file using pandas that contains the data and \n",
    "    parsing the \"Date\" column to the function above to get the date in the format YYYY-MM-DD and\n",
    "    defining \"Data\" column as index for the dataframe\"\"\""
   ]
  },
  {
   "cell_type": "code",
   "execution_count": null,
   "metadata": {},
   "outputs": [],
   "source": [
    "\n",
    "\"\"\"display the top 10 rows of the dataframe called \"data\" as displayed down \"\"\""
   ]
  },
  {
   "cell_type": "markdown",
   "metadata": {},
   "source": [
    "Note down that the data we are using is well organised so we don't have to do lot of preprocessing \n",
    "But if you have a data which is not organised then its vey important to do **PREPROCESSING** in very standard way to get better model to do best predictions.\n",
    "\n",
    "**GARBAGE IN IS GARBAGE OUT**\n",
    "\n",
    "Rightly said atleast in machine learning if you give unrelated input you will always get unrelated output so preprocess the input data always"
   ]
  },
  {
   "cell_type": "markdown",
   "metadata": {},
   "source": [
    "### EXPLORATORY DATA ANALYSIS (EDA)"
   ]
  },
  {
   "cell_type": "markdown",
   "metadata": {},
   "source": [
    "#### PLOT "
   ]
  },
  {
   "cell_type": "code",
   "execution_count": null,
   "metadata": {},
   "outputs": [],
   "source": [
    "\"\"\" Ploting \"Open Prices\" against \"Dates\" With xlabel,ylabeL using matplotlib library\"\"\""
   ]
  },
  {
   "cell_type": "markdown",
   "metadata": {},
   "source": [
    "**NOTE**\n",
    "\n",
    "When solving a time series problem statement we should always ask these questions\n",
    "    - Is it stationary?\n",
    "    - Is there a seasonality?\n",
    "    - Is the target variable autocorrelated?"
   ]
  },
  {
   "cell_type": "markdown",
   "metadata": {},
   "source": [
    "**AUTOCORRELATION PLOT**"
   ]
  },
  {
   "cell_type": "markdown",
   "metadata": {},
   "source": [
    "Autocorrelation is the similarity between observations as a function of the time lag between them."
   ]
  },
  {
   "cell_type": "code",
   "execution_count": null,
   "metadata": {},
   "outputs": [],
   "source": [
    "\"\"\"find the autocorrelation between the Open Price and its delayed versions with lag of 1,5,10,15,30\"\"\""
   ]
  },
  {
   "cell_type": "markdown",
   "metadata": {},
   "source": [
    "**SEASONALITY**"
   ]
  },
  {
   "cell_type": "markdown",
   "metadata": {},
   "source": [
    "Seasonality refers to periodic fluctuations.\n",
    "\n",
    "For example, temperature is high during the day and low during night,or online sales increase during Festival before slowing down again.\n",
    "\n",
    "Remember that seasonality can also be derived from an autocorrelation plot if it has a sinusoidal shape.\n",
    "Simply look at the period, and it gives the length of the season."
   ]
  },
  {
   "cell_type": "markdown",
   "metadata": {},
   "source": [
    "**STATIONARITY**"
   ]
  },
  {
   "cell_type": "markdown",
   "metadata": {},
   "source": [
    "Stationarity is an important characteristic of time series. \n",
    "\n",
    "A time series is said to be stationary if its statistical properties do not change over time.\n",
    "\n",
    "In other words, it has constant mean and variance, and covariance is independent of time.\n"
   ]
  },
  {
   "cell_type": "markdown",
   "metadata": {},
   "source": [
    "**Dickey-Fuller Method to check for seasonality and stationarity**\n",
    "\n",
    "It test the null hypothesis that a unit root is present.\n",
    "\n",
    "If it is, then p > 0, and the process is not stationary.\n",
    "\n",
    "Otherwise, p = 0, the null hypothesis is rejected, and the process is considered to be stationary."
   ]
  },
  {
   "cell_type": "code",
   "execution_count": null,
   "metadata": {},
   "outputs": [],
   "source": [
    "\"\"\"Write a function to perdorm Dicey-fuller method on the data \n",
    "    function taking the data and the lag =30\"\"\""
   ]
  },
  {
   "cell_type": "markdown",
   "metadata": {},
   "source": [
    "By the Dickey-Fuller test, the time series is non-stationary. Notice how the mean is not constant through time. \n",
    "\n",
    "Also, looking at the autocorrelation plot, we see that it is very high, and it seems that there is no clear seasonality."
   ]
  },
  {
   "cell_type": "markdown",
   "metadata": {},
   "source": [
    "**NOTE**\n",
    "\n",
    "Ideally, we want to have a stationary time series for modelling.\n",
    "\n",
    "Of course, not all of them are stationary, but we can make different transformations to make them stationary.\n"
   ]
  },
  {
   "cell_type": "markdown",
   "metadata": {},
   "source": [
    "Therefore, to get rid of the high autocorrelation and to make the process stationary, let’s take the first difference. We simply the time series from itself with a lag of one day:"
   ]
  },
  {
   "cell_type": "code",
   "execution_count": null,
   "metadata": {},
   "outputs": [],
   "source": [
    "\"\"\"\n",
    "#take the difference betweeen the data and data shifted by 1\n",
    "#check if it stationary or not using Dickey-Fuller method\n",
    "\"\"\""
   ]
  },
  {
   "cell_type": "markdown",
   "metadata": {},
   "source": [
    "If p = 0 it is stationary. \n",
    "\n",
    "We can start modeling"
   ]
  },
  {
   "cell_type": "markdown",
   "metadata": {},
   "source": [
    "### TRAIN-TEST SPLIT"
   ]
  },
  {
   "cell_type": "code",
   "execution_count": null,
   "metadata": {},
   "outputs": [],
   "source": [
    "\"\"\"split the data with test set containing last 73 images and train set containing remaining images\n",
    " plot the train set with green color and test set with blue\"\"\"\n"
   ]
  },
  {
   "cell_type": "markdown",
   "metadata": {},
   "source": [
    "### MEAN VALUE PLOT"
   ]
  },
  {
   "cell_type": "code",
   "execution_count": null,
   "metadata": {
    "scrolled": true
   },
   "outputs": [],
   "source": [
    "\"\"\"take the mean and plot the difference between the mean and the actual dataset\n",
    "    and calculate  MSE ,MAE,RMSE which will be the max value of errors\"\"\""
   ]
  },
  {
   "cell_type": "markdown",
   "metadata": {},
   "source": [
    "### MODEL BUILDING AND VALIDATION"
   ]
  },
  {
   "cell_type": "markdown",
   "metadata": {},
   "source": [
    "**AUTOREGRESSIVE MODEL**"
   ]
  },
  {
   "cell_type": "markdown",
   "metadata": {},
   "source": [
    "In an autoregression model, we forecast the variable of interest using a linear combination of past values of the variable. The term autoregression indicates that it is a regression of the variable against itself.\n",
    "\n",
    "Observation from previous time observation as input to a regression equation for next prediction\n",
    "\n",
    "References:\n",
    " - https://machinelearningmastery.com/autoregression-models-time-series-forecasting-python/"
   ]
  },
  {
   "cell_type": "code",
   "execution_count": null,
   "metadata": {
    "scrolled": true
   },
   "outputs": [],
   "source": [
    "\"\"\"train the model\"\"\""
   ]
  },
  {
   "cell_type": "code",
   "execution_count": null,
   "metadata": {},
   "outputs": [],
   "source": [
    "\"\"\"write the code for predicting using model\"\"\""
   ]
  },
  {
   "cell_type": "code",
   "execution_count": null,
   "metadata": {},
   "outputs": [],
   "source": [
    "\"\"\"plot the graph after modeling with target test set and predicted value\"\"\""
   ]
  },
  {
   "cell_type": "markdown",
   "metadata": {},
   "source": [
    "**EVALUATION**"
   ]
  },
  {
   "cell_type": "code",
   "execution_count": null,
   "metadata": {},
   "outputs": [],
   "source": [
    "\"\"\"calculate the MSE,MAE,RMSE\"\"\""
   ]
  },
  {
   "cell_type": "markdown",
   "metadata": {},
   "source": [
    "**MOVING AVERAGE MODEL**"
   ]
  },
  {
   "cell_type": "markdown",
   "metadata": {},
   "source": [
    "In time series analysis, the moving-average model (MA model), also known as moving-average process, is a common approach for modeling univariate time series.\n",
    "\n",
    "The moving-average model specifies that the output variable depends linearly on the current and various past values of a stochastic (imperfectly predictable) term.\n",
    "\n",
    "Reference:\n",
    "    - https://en.wikipedia.org/wiki/Moving-average_model"
   ]
  },
  {
   "cell_type": "code",
   "execution_count": null,
   "metadata": {},
   "outputs": [],
   "source": [
    "\"\"\"train the model \"\"\""
   ]
  },
  {
   "cell_type": "code",
   "execution_count": null,
   "metadata": {},
   "outputs": [],
   "source": [
    "\"\"\"do the prediction using the model\"\"\""
   ]
  },
  {
   "cell_type": "code",
   "execution_count": null,
   "metadata": {},
   "outputs": [],
   "source": [
    "\"\"\"plot the predicted and target \"\"\""
   ]
  },
  {
   "cell_type": "markdown",
   "metadata": {},
   "source": [
    "** EVALUAT"
   ]
  },
  {
   "cell_type": "code",
   "execution_count": null,
   "metadata": {},
   "outputs": [],
   "source": [
    "\"\"\"calculate the MSE,MAE,RMSE\"\"\""
   ]
  },
  {
   "cell_type": "markdown",
   "metadata": {},
   "source": [
    "FURTURE READING :\n",
    " - https://en.wikipedia.org/wiki/Autoregressive%E2%80%93moving-average_model\n",
    " - https://www.statsmodels.org/stable/generated/statsmodels.tsa.ar_model.AR.html"
   ]
  },
  {
   "cell_type": "code",
   "execution_count": null,
   "metadata": {},
   "outputs": [],
   "source": []
  },
  {
   "cell_type": "code",
   "execution_count": null,
   "metadata": {},
   "outputs": [],
   "source": []
  },
  {
   "cell_type": "code",
   "execution_count": null,
   "metadata": {},
   "outputs": [],
   "source": []
  }
 ],
 "metadata": {
  "kernelspec": {
   "display_name": "Python 3",
   "language": "python",
   "name": "python3"
  },
  "language_info": {
   "codemirror_mode": {
    "name": "ipython",
    "version": 3
   },
   "file_extension": ".py",
   "mimetype": "text/x-python",
   "name": "python",
   "nbconvert_exporter": "python",
   "pygments_lexer": "ipython3",
   "version": "3.7.3"
  }
 },
 "nbformat": 4,
 "nbformat_minor": 1
}
